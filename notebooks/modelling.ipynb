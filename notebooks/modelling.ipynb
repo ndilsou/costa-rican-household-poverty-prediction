{
 "cells": [
  {
   "cell_type": "code",
   "execution_count": 1,
   "metadata": {},
   "outputs": [],
   "source": [
    "import sys\n",
    "sys.path.append('../')"
   ]
  },
  {
   "cell_type": "code",
   "execution_count": 316,
   "metadata": {},
   "outputs": [],
   "source": [
    "from functools import partial\n",
    "import pandas as pd\n",
    "from scipy import stats\n",
    "from sklearn.model_selection import train_test_split\n",
    "import sklearn.preprocessing as pp\n",
    "from sklearn.compose import make_column_transformer\n",
    "from sklearn.impute import SimpleImputer\n",
    "from sklearn.base import BaseEstimator, TransformerMixin\n",
    "from sklearn import (metrics, model_selection, multiclass, decomposition, \n",
    "                     cluster, svm, ensemble, neighbors, naive_bayes, \n",
    "                     semi_supervised, gaussian_process)\n",
    "from sklearn.linear_model import LogisticRegression, SGDClassifier\n",
    "from sklearn.pipeline import make_pipeline, make_union\n",
    "import matplotlib.pyplot as plt\n",
    "import seaborn as sns\n",
    "from pathlib import Path\n",
    "import numpy as np\n",
    "from sklearn_pandas import DataFrameMapper, gen_features\n",
    "from tools.constants import SEED\n",
    "import tools\n",
    "import tools.preprocessing as pp_tools\n",
    "import tools.modelling as modelling_tools\n",
    "from IPython.core.interactiveshell import InteractiveShell\n",
    "InteractiveShell.ast_node_interactivity = \"all\"\n",
    "\n",
    "sns.set()\n",
    "%matplotlib inline"
   ]
  },
  {
   "cell_type": "code",
   "execution_count": 358,
   "metadata": {},
   "outputs": [],
   "source": [
    "DATADIR = Path('../data')\n",
    "RAW_DATADIR = DATADIR / 'raw'\n",
    "MODEL_DIR = Path('../models')"
   ]
  },
  {
   "cell_type": "code",
   "execution_count": 352,
   "metadata": {},
   "outputs": [],
   "source": [
    "raw_data = tools.read_raw_data(RAW_DATADIR / 'train.csv')\n",
    "train, test = tools.train_test_split(raw_data)\n",
    "train_features = train.drop('Target', axis='columns')\n",
    "train_labels = train['Target'].values\n",
    "is_head_of_household = train_features['parentesco1'].values\n",
    "\n",
    "test_features = test.drop('Target', axis='columns')\n",
    "test_labels = test['Target'].values\n",
    "is_head_of_household_test = test_features['parentesco1'].values"
   ]
  },
  {
   "cell_type": "markdown",
   "metadata": {},
   "source": [
    "# I - Cleanup"
   ]
  },
  {
   "cell_type": "markdown",
   "metadata": {},
   "source": [
    "TODO:\n",
    "   * drop squares\n",
    "   * drop rejected\n",
    "   * inpute missing values\n",
    "   * aggregate on household head"
   ]
  },
  {
   "cell_type": "code",
   "execution_count": 134,
   "metadata": {},
   "outputs": [],
   "source": [
    "# Alwasys dropped.\n",
    "dropped_cols = [\n",
    "    'Id',\n",
    "    'idhogar',\n",
    "    'agesq',\n",
    "    'SQBage',\n",
    "    'SQBdependency',\n",
    "    'SQBedjefe',\n",
    "    'SQBescolari',\n",
    "    'SQBhogar_nin',\n",
    "    'SQBhogar_total',\n",
    "    'SQBmeaned',\n",
    "    'SQBovercrowding',\n",
    "#     'dependency',\n",
    "    'edjefe',\n",
    "    'edjefa'\n",
    "]\n",
    "\n",
    "high_na_cols = [\n",
    "    'v2a1',\n",
    "    'v18q1',\n",
    "    'rez_esc',\n",
    "    'meaneduc'\n",
    "]\n",
    "\n",
    "continuous_cols = [\n",
    "    'v2a1', 'rooms', 'v18q1', 'r4h1', 'r4h2', 'r4h3', 'r4m1', 'r4m2',\n",
    "       'r4m3', 'r4t1', 'r4t2', 'r4t3', 'tamhog', 'tamviv', 'escolari',\n",
    "       'rez_esc', 'hhsize', 'elimbasu5', 'hogar_nin', 'hogar_adul',\n",
    "       'hogar_mayor', 'hogar_total',\n",
    "       'meaneduc', 'bedrooms', 'overcrowding', 'qmobilephone', 'age',\n",
    "]\n",
    "\n",
    "# We've identified high skew in the distribution of those variables.\n",
    "skewed_cols = ['v2a1', 'age']\n",
    "\n",
    "# From the profiling report, we know that those variables are highly correlated.\n",
    "compression_candidates = [\n",
    "    'hogar_total', 'hhsize', 'r4t3', 'tamhog', 'tamviv'\n",
    "]\n",
    "\n",
    "# Columns containing information only relevant for the individual that may be noise\n",
    "# at household level. May or may not be dropped\n",
    "individual_cols = [\n",
    "    'parentesco1',     \n",
    "    'parentesco2', \n",
    "    'parentesco3', \n",
    "    'parentesco4', \n",
    "    'parentesco5', \n",
    "    'parentesco6', \n",
    "    'parentesco7', \n",
    "    'parentesco8', \n",
    "    'parentesco9', \n",
    "    'parentesco10', \n",
    "    'parentesco11', \n",
    "    'parentesco12'\n",
    "]"
   ]
  },
  {
   "cell_type": "code",
   "execution_count": 242,
   "metadata": {},
   "outputs": [],
   "source": [
    "class ClusterIndexTransformer(BaseEstimator, TransformerMixin):\n",
    "    def __init__(self, cluster):\n",
    "        self.cluster = cluster\n",
    "    def fit(self, X, y=None):\n",
    "        self.cluster.fit(X)\n",
    "        return self\n",
    "        \n",
    "    def transform(self, X):\n",
    "        cluster_indices = self.cluster.predict(X)\n",
    "        return cluster_indices.reshape(-1, 1)\n",
    "    \n",
    "\n",
    "class VulnerabilityIndicator(BaseEstimator, TransformerMixin):\n",
    "    '''\n",
    "    Adds a metafeature indicating if the datapoint\n",
    "    belongs to a vulnerable household. Used to guide the downstream classifier.\n",
    "    '''\n",
    "    def __init__(self, loss = 'hinge', random_state=None):\n",
    "        self.loss = loss\n",
    "        self.random_state = random_state\n",
    "        \n",
    "    def fit(self, X, y):\n",
    "        self.clf_ = SGDClassifier(loss=self.loss, random_state=self.random_state)\n",
    "        y_ = y != 4\n",
    "        self.clf_.fit(X, y_)\n",
    "        return self\n",
    "        \n",
    "    def transform(self, X):\n",
    "        y_hat = self.clf_.predict(X)\n",
    "        return y_hat.reshape(-1, 1)"
   ]
  },
  {
   "cell_type": "code",
   "execution_count": 250,
   "metadata": {},
   "outputs": [],
   "source": [
    "imputer_def = gen_features(\n",
    "    columns=high_na_cols, classes=[\n",
    "        {'class': pp.FunctionTransformer, 'func': pp_tools.as_2darray, 'validate': False},\n",
    "        {'class': SimpleImputer, 'strategy': 'median'}\n",
    "    ]\n",
    ")\n",
    "\n",
    "standardize_def = gen_features(\n",
    "    columns=continuous_cols, classes=[\n",
    "        {'class': pp.FunctionTransformer, 'func': pp_tools.as_2darray, 'validate': False},\n",
    "        pp.StandardScaler\n",
    "    ]\n",
    ")\n",
    "\n",
    "features_def = [\n",
    "    ('dependency', [\n",
    "        pp.FunctionTransformer(pp_tools.code_dependents, validate=False), \n",
    "        pp.OneHotEncoder()\n",
    "    ]),\n",
    "    *standardize_def\n",
    "]\n",
    "\n",
    "preprocess = make_pipeline(\n",
    "    pp_tools.ColumnSelector(columns=dropped_cols, drop=True),\n",
    "    pp_tools.ColumnSelector(columns=individual_cols, drop=True),\n",
    "    DataFrameMapper(imputer_def, input_df=True, default=None, df_out=True),\n",
    "    DataFrameMapper(features_def, input_df=True, default=None, df_out=True),\n",
    "    make_column_transformer(\n",
    "        (pp.PowerTransformer(standardize=False), skewed_cols),\n",
    "        (decomposition.PCA(n_components=2, random_state=SEED), compression_candidates),\n",
    "    remainder='passthrough'),\n",
    "    make_union(\n",
    "        pp.FunctionTransformer(validate=True),\n",
    "        pp_tools.VulnerabilityIndicator(random_state=SEED)\n",
    "    )\n",
    "    \n",
    ")\n",
    "\n",
    "binarizer = pp.LabelBinarizer()"
   ]
  },
  {
   "cell_type": "code",
   "execution_count": 251,
   "metadata": {},
   "outputs": [],
   "source": [
    "X = preprocess.fit_transform(train_features, train_labels)\n",
    "\n",
    "y = binarizer.fit_transform(train_labels)"
   ]
  },
  {
   "cell_type": "code",
   "execution_count": 252,
   "metadata": {},
   "outputs": [
    {
     "data": {
      "text/plain": [
       "Index(['Id', 'v2a1', 'hacdor', 'rooms', 'hacapo', 'v14a', 'refrig', 'v18q',\n",
       "       'v18q1', 'r4h1',\n",
       "       ...\n",
       "       'age', 'SQBescolari', 'SQBage', 'SQBhogar_total', 'SQBedjefe',\n",
       "       'SQBhogar_nin', 'SQBovercrowding', 'SQBdependency', 'SQBmeaned',\n",
       "       'agesq'],\n",
       "      dtype='object', length=142)"
      ]
     },
     "execution_count": 252,
     "metadata": {},
     "output_type": "execute_result"
    }
   ],
   "source": [
    "train_features.columns"
   ]
  },
  {
   "cell_type": "code",
   "execution_count": 253,
   "metadata": {},
   "outputs": [
    {
     "data": {
      "text/plain": [
       "array([-0.13759397,  0.29087248,  3.74713438, -0.07676544,  1.        ,\n",
       "        0.        ,  0.        ,  1.39864066, -0.23126609,  0.90529941,\n",
       "        2.3801814 ,  2.58991345,  0.86128959, -0.71139495, -0.05130534,\n",
       "        1.15387734,  1.25065932, -0.47596065, -0.1846431 ,  0.        ,\n",
       "        2.62931906, -0.50948887, -0.47590442,  0.17608057,  2.38906639,\n",
       "       -0.24891447, -0.55882437,  0.        ,  0.        ,  1.        ,\n",
       "        1.        ,  0.        ,  1.        ,  0.        ,  0.        ,\n",
       "        0.        ,  0.        ,  0.        ,  0.        ,  0.        ,\n",
       "        1.        ,  0.        ,  0.        ,  0.        ,  0.        ,\n",
       "        0.        ,  1.        ,  0.        ,  0.        ,  0.        ,\n",
       "        0.        ,  1.        ,  0.        ,  0.        ,  0.        ,\n",
       "        0.        ,  0.        ,  1.        ,  0.        ,  0.        ,\n",
       "        1.        ,  0.        ,  0.        ,  0.        ,  0.        ,\n",
       "        1.        ,  0.        ,  0.        ,  0.        ,  1.        ,\n",
       "        0.        ,  0.        ,  0.        ,  0.        ,  1.        ,\n",
       "        0.        ,  0.        ,  1.        ,  0.        ,  0.        ,\n",
       "        1.        ,  0.        ,  1.        ,  0.        ,  0.        ,\n",
       "        0.        ,  1.        ,  0.        ,  0.        ,  0.        ,\n",
       "        0.        ,  0.        ,  1.        ,  0.        ,  0.        ,\n",
       "        0.        ,  0.        ,  0.        ,  0.        ,  0.        ,\n",
       "        1.        ,  0.        ,  0.        ,  0.        ,  0.        ,\n",
       "        0.        ,  0.        ,  1.        ,  0.        ,  0.        ,\n",
       "        0.        ,  0.        ,  0.        ,  1.        ,  0.        ,\n",
       "        1.        ,  1.        ])"
      ]
     },
     "execution_count": 253,
     "metadata": {},
     "output_type": "execute_result"
    }
   ],
   "source": [
    "X[0, :]"
   ]
  },
  {
   "cell_type": "code",
   "execution_count": 254,
   "metadata": {},
   "outputs": [
    {
     "data": {
      "text/plain": [
       "{1: 0.4498093822972523,\n",
       " 2: 0.21258596784627573,\n",
       " 3: 0.28095642906674295,\n",
       " 4: 0.056648220789729024}"
      ]
     },
     "execution_count": 254,
     "metadata": {},
     "output_type": "execute_result"
    }
   ],
   "source": [
    "weights = 1 / (y.sum(axis=0) / y.sum())\n",
    "class_weight = weights / weights.sum()\n",
    "class_weight = {k:w for k, w in zip(np.arange(1, 5), class_weight)}\n",
    "class_weight"
   ]
  },
  {
   "cell_type": "markdown",
   "metadata": {},
   "source": [
    "## Baseline Linear Model"
   ]
  },
  {
   "cell_type": "code",
   "execution_count": 272,
   "metadata": {},
   "outputs": [
    {
     "name": "stdout",
     "output_type": "stream",
     "text": [
      "mean score: 0.3772843068354756, stddev: 0.01897709743545357\n"
     ]
    },
    {
     "data": {
      "image/png": "[encoded data removed]",
      "text/plain": [
       "<Figure size 432x288 with 2 Axes>"
      ]
     },
     "metadata": {
      "needs_background": "light"
     },
     "output_type": "display_data"
    }
   ],
   "source": [
    "clf = multiclass.OneVsRestClassifier(SGDClassifier(loss='modified_huber', \n",
    "                                                   random_state=SEED)\n",
    "                                    )\n",
    "\n",
    "score_mean, score_std = modelling_tools.cross_validate_estimator(clf, X, y, sample_weight=is_head_of_household)\n",
    "print(f'mean score: {score_mean}, stddev: {score_std}')\n",
    "cm = modelling_tools.show_confusion_matrix(clf, X, y, binarizer=binarizer, sample_weight=is_head_of_household)"
   ]
  },
  {
   "cell_type": "markdown",
   "metadata": {},
   "source": [
    "## SVM"
   ]
  },
  {
   "cell_type": "code",
   "execution_count": 274,
   "metadata": {},
   "outputs": [
    {
     "name": "stdout",
     "output_type": "stream",
     "text": [
      "mean score: 0.41532412263986257, stddev: 0.022269602922654324\n"
     ]
    },
    {
     "data": {
      "image/png": "[encoded data removed]",
      "text/plain": [
       "<Figure size 432x288 with 2 Axes>"
      ]
     },
     "metadata": {
      "needs_background": "light"
     },
     "output_type": "display_data"
    }
   ],
   "source": [
    "clf = multiclass.OutputCodeClassifier(svm.SVC(random_state=SEED, gamma='scale'), random_state=SEED, code_size=2, n_jobs=-1)\n",
    "\n",
    "score_mean, score_std = modelling_tools.cross_validate_estimator(clf, X, train_labels, sample_weight=is_head_of_household)\n",
    "print(f'mean score: {score_mean}, stddev: {score_std}')\n",
    "cm = modelling_tools.show_confusion_matrix(clf, X, train_labels, sample_weight=is_head_of_household)"
   ]
  },
  {
   "cell_type": "markdown",
   "metadata": {},
   "source": [
    "## Neighbourhood based algorithms"
   ]
  },
  {
   "cell_type": "code",
   "execution_count": 278,
   "metadata": {},
   "outputs": [
    {
     "name": "stdout",
     "output_type": "stream",
     "text": [
      "mean score: 0.659548421065152, stddev: 0.037231351425998496\n"
     ]
    },
    {
     "data": {
      "image/png": "[encoded data removed]",
      "text/plain": [
       "<Figure size 432x288 with 2 Axes>"
      ]
     },
     "metadata": {
      "needs_background": "light"
     },
     "output_type": "display_data"
    }
   ],
   "source": [
    "clf = neighbors.KNeighborsClassifier(weights='distance', n_jobs=-1)\n",
    "score_mean, score_std = modelling_tools.cross_validate_estimator(clf, X, train_labels, sample_weight=is_head_of_household)\n",
    "print(f'mean score: {score_mean}, stddev: {score_std}')\n",
    "cm = modelling_tools.show_confusion_matrix(clf, X, train_labels, sample_weight=is_head_of_household)"
   ]
  },
  {
   "cell_type": "code",
   "execution_count": 280,
   "metadata": {},
   "outputs": [
    {
     "name": "stderr",
     "output_type": "stream",
     "text": [
      "/Users/ndiladjimsoungadoy/Personal/source_repository/costa-rican-household-poverty-prediction/.venv/lib/python3.7/site-packages/sklearn/semi_supervised/label_propagation.py:201: RuntimeWarning: invalid value encountered in true_divide\n",
      "  probabilities /= normalizer\n",
      "/Users/ndiladjimsoungadoy/Personal/source_repository/costa-rican-household-poverty-prediction/.venv/lib/python3.7/site-packages/sklearn/semi_supervised/label_propagation.py:201: RuntimeWarning: invalid value encountered in true_divide\n",
      "  probabilities /= normalizer\n",
      "/Users/ndiladjimsoungadoy/Personal/source_repository/costa-rican-household-poverty-prediction/.venv/lib/python3.7/site-packages/sklearn/semi_supervised/label_propagation.py:201: RuntimeWarning: invalid value encountered in true_divide\n",
      "  probabilities /= normalizer\n",
      "/Users/ndiladjimsoungadoy/Personal/source_repository/costa-rican-household-poverty-prediction/.venv/lib/python3.7/site-packages/sklearn/semi_supervised/label_propagation.py:201: RuntimeWarning: invalid value encountered in true_divide\n",
      "  probabilities /= normalizer\n"
     ]
    },
    {
     "name": "stdout",
     "output_type": "stream",
     "text": [
      "mean score: 0.7753473995503206, stddev: 0.007099069698536677\n"
     ]
    },
    {
     "name": "stderr",
     "output_type": "stream",
     "text": [
      "/Users/ndiladjimsoungadoy/Personal/source_repository/costa-rican-household-poverty-prediction/.venv/lib/python3.7/site-packages/sklearn/semi_supervised/label_propagation.py:201: RuntimeWarning: invalid value encountered in true_divide\n",
      "  probabilities /= normalizer\n"
     ]
    },
    {
     "data": {
      "image/png": "[encoded data removed]",
      "text/plain": [
       "<Figure size 432x288 with 2 Axes>"
      ]
     },
     "metadata": {
      "needs_background": "light"
     },
     "output_type": "display_data"
    }
   ],
   "source": [
    "clf = semi_supervised.LabelSpreading(n_jobs=-1)\n",
    "score_mean, score_std = modelling_tools.cross_validate_estimator(clf, X, train_labels, sample_weight=is_head_of_household)\n",
    "print(f'mean score: {score_mean}, stddev: {score_std}')\n",
    "cm = modelling_tools.show_confusion_matrix(clf, X, train_labels, sample_weight=is_head_of_household)"
   ]
  },
  {
   "cell_type": "markdown",
   "metadata": {},
   "source": [
    "## Ensembles"
   ]
  },
  {
   "cell_type": "code",
   "execution_count": 281,
   "metadata": {},
   "outputs": [
    {
     "name": "stdout",
     "output_type": "stream",
     "text": [
      "mean score: 0.5045834798249619, stddev: 0.02368518281961784\n"
     ]
    },
    {
     "data": {
      "image/png": "[encoded data removed]",
      "text/plain": [
       "<Figure size 432x288 with 2 Axes>"
      ]
     },
     "metadata": {
      "needs_background": "light"
     },
     "output_type": "display_data"
    }
   ],
   "source": [
    "clf = ensemble.GradientBoostingClassifier(random_state=SEED)\n",
    "score_mean, score_std = modelling_tools.cross_validate_estimator(clf, X, train_labels, sample_weight=is_head_of_household)\n",
    "print(f'mean score: {score_mean}, stddev: {score_std}')\n",
    "cm = modelling_tools.show_confusion_matrix(clf, X, train_labels, sample_weight=is_head_of_household)"
   ]
  },
  {
   "cell_type": "code",
   "execution_count": 287,
   "metadata": {},
   "outputs": [
    {
     "name": "stdout",
     "output_type": "stream",
     "text": [
      "mean score: 0.7619966909816862, stddev: 0.011793235174899048\n"
     ]
    },
    {
     "data": {
      "image/png": "[encoded data removed]",
      "text/plain": [
       "<Figure size 432x288 with 2 Axes>"
      ]
     },
     "metadata": {
      "needs_background": "light"
     },
     "output_type": "display_data"
    }
   ],
   "source": [
    "clf = ensemble.RandomForestClassifier(n_estimators=100, random_state=SEED)\n",
    "score_mean, score_std = modelling_tools.cross_validate_estimator(clf, X, train_labels, sample_weight=is_head_of_household)\n",
    "print(f'mean score: {score_mean}, stddev: {score_std}')\n",
    "cm = modelling_tools.show_confusion_matrix(clf, X, train_labels, sample_weight=is_head_of_household)"
   ]
  },
  {
   "cell_type": "code",
   "execution_count": 291,
   "metadata": {},
   "outputs": [
    {
     "name": "stdout",
     "output_type": "stream",
     "text": [
      "mean score: 0.653749227006759, stddev: 0.04613278087227369\n"
     ]
    },
    {
     "data": {
      "image/png": "[encoded data removed]",
      "text/plain": [
       "<Figure size 432x288 with 2 Axes>"
      ]
     },
     "metadata": {
      "needs_background": "light"
     },
     "output_type": "display_data"
    }
   ],
   "source": [
    "clf = ensemble.BaggingClassifier(base_estimator=neighbors.KNeighborsClassifier(weights='distance'), n_estimators=25, random_state=SEED, n_jobs=-1)\n",
    "score_mean, score_std = modelling_tools.cross_validate_estimator(clf, X, train_labels, sample_weight=is_head_of_household)\n",
    "print(f'mean score: {score_mean}, stddev: {score_std}')\n",
    "cm = modelling_tools.show_confusion_matrix(clf, X, train_labels, sample_weight=is_head_of_household)"
   ]
  },
  {
   "cell_type": "markdown",
   "metadata": {},
   "source": [
    "## Tuning of most promising classifiers"
   ]
  },
  {
   "cell_type": "code",
   "execution_count": 323,
   "metadata": {},
   "outputs": [
    {
     "data": {
      "text/plain": [
       "RandomizedSearchCV(cv=5, error_score='raise-deprecating',\n",
       "                   estimator=LabelSpreading(alpha=0.2, gamma=20, kernel='rbf',\n",
       "                                            max_iter=30, n_jobs=-1,\n",
       "                                            n_neighbors=7, tol=0.001),\n",
       "                   iid='warn', n_iter=10, n_jobs=-1,\n",
       "                   param_distributions={'alpha': <scipy.stats._distn_infrastructure.rv_frozen object at 0x13830d850>,\n",
       "                                        'gamma': <scipy.stats._distn_infrastructure.rv_frozen object at 0x13830dd50>},\n",
       "                   pre_dispatch='2*n_jobs', random_state=93, refit=True,\n",
       "                   return_train_score=False, scoring='f1_macro', verbose=0)"
      ]
     },
     "execution_count": 323,
     "metadata": {},
     "output_type": "execute_result"
    },
    {
     "name": "stdout",
     "output_type": "stream",
     "text": [
      "Model with rank: 1\n",
      "Mean validation score: 0.844 (std: 0.005)\n",
      "Parameters: {'alpha': 0.4373567218968436, 'gamma': 2}\n",
      "\n",
      "Model with rank: 2\n",
      "Mean validation score: 0.844 (std: 0.006)\n",
      "Parameters: {'alpha': 0.6063543377764754, 'gamma': 5}\n",
      "\n",
      "Model with rank: 3\n",
      "Mean validation score: 0.844 (std: 0.006)\n",
      "Parameters: {'alpha': 0.5036970188808332, 'gamma': 10}\n",
      "\n",
      "score: 1.0\n"
     ]
    },
    {
     "data": {
      "image/png": "[encoded data removed]",
      "text/plain": [
       "<Figure size 432x288 with 2 Axes>"
      ]
     },
     "metadata": {
      "needs_background": "light"
     },
     "output_type": "display_data"
    }
   ],
   "source": [
    "label_spreading_clf = semi_supervised.LabelSpreading(n_jobs=-1)\n",
    "param_distributions={\n",
    "    'alpha': stats.uniform(),\n",
    "    'gamma': stats.randint(1, 30),\n",
    "}\n",
    "\n",
    "\n",
    "label_spreading_tuning_job = model_selection.RandomizedSearchCV(label_spreading_clf, param_distributions, n_jobs=-1, n_iter=10, cv=5, random_state=SEED, scoring='f1_macro')\n",
    "label_spreading_tuning_job.fit(X, train_labels)\n",
    "modelling_tools.tuning_report(label_spreading_tuning_job.cv_results_)\n",
    "modelling_tools.test_report(label_spreading_tuning_job.best_estimator_, X, train_labels, sample_weight=is_head_of_household)"
   ]
  },
  {
   "cell_type": "code",
   "execution_count": 348,
   "metadata": {},
   "outputs": [
    {
     "data": {
      "text/plain": [
       "RandomizedSearchCV(cv=5, error_score='raise-deprecating',\n",
       "                   estimator=RandomForestClassifier(bootstrap=True,\n",
       "                                                    class_weight=None,\n",
       "                                                    criterion='gini',\n",
       "                                                    max_depth=None,\n",
       "                                                    max_features='auto',\n",
       "                                                    max_leaf_nodes=None,\n",
       "                                                    min_impurity_decrease=0.0,\n",
       "                                                    min_impurity_split=None,\n",
       "                                                    min_samples_leaf=1,\n",
       "                                                    min_samples_split=2,\n",
       "                                                    min_weight_fraction_leaf=0.0,\n",
       "                                                    n_estimators=100, n_jobs=-1,\n",
       "                                                    oob_score=F...\n",
       "                   param_distributions={'bootstrap': [True, False],\n",
       "                                        'class_weight': ['balanced',\n",
       "                                                         'balanced_subsample',\n",
       "                                                         None],\n",
       "                                        'criterion': ['gini', 'entropy'],\n",
       "                                        'max_depth': [3, None],\n",
       "                                        'max_features': ['sqrt', 'log2', None],\n",
       "                                        'min_samples_split': <scipy.stats._distn_infrastructure.rv_frozen object at 0x136db4090>},\n",
       "                   pre_dispatch='2*n_jobs', random_state=93, refit=True,\n",
       "                   return_train_score=False, scoring='f1_macro', verbose=0)"
      ]
     },
     "execution_count": 348,
     "metadata": {},
     "output_type": "execute_result"
    },
    {
     "name": "stdout",
     "output_type": "stream",
     "text": [
      "Model with rank: 1\n",
      "Mean validation score: 0.886 (std: 0.009)\n",
      "Parameters: {'bootstrap': False, 'class_weight': 'balanced', 'criterion': 'gini', 'max_depth': None, 'max_features': 'log2', 'min_samples_split': 3}\n",
      "\n",
      "Model with rank: 2\n",
      "Mean validation score: 0.884 (std: 0.008)\n",
      "Parameters: {'bootstrap': False, 'class_weight': 'balanced_subsample', 'criterion': 'gini', 'max_depth': None, 'max_features': 'sqrt', 'min_samples_split': 4}\n",
      "\n",
      "Model with rank: 3\n",
      "Mean validation score: 0.883 (std: 0.009)\n",
      "Parameters: {'bootstrap': False, 'class_weight': 'balanced_subsample', 'criterion': 'entropy', 'max_depth': None, 'max_features': 'log2', 'min_samples_split': 3}\n",
      "\n",
      "score: 0.9979405582516769\n"
     ]
    },
    {
     "data": {
      "image/png": "[encoded data removed]",
      "text/plain": [
       "<Figure size 432x288 with 2 Axes>"
      ]
     },
     "metadata": {
      "needs_background": "light"
     },
     "output_type": "display_data"
    }
   ],
   "source": [
    "random_forest_clf = ensemble.RandomForestClassifier(n_estimators=100, random_state=SEED, n_jobs=-1)\n",
    "param_distributions={\n",
    "    \"max_depth\": [3, None],\n",
    "    \"min_samples_split\": stats.randint(2, 5),\n",
    "    'max_features': ['sqrt', 'log2', None],\n",
    "    \"bootstrap\": [True, False],\n",
    "    \"criterion\": [\"gini\", \"entropy\"],\n",
    "    'class_weight': ['balanced', 'balanced_subsample', None]\n",
    "}\n",
    "\n",
    "random_forest_tuning_job = model_selection.RandomizedSearchCV(random_forest_clf, param_distributions, n_jobs=-1, n_iter=10, cv=5, random_state=SEED, scoring='f1_macro')\n",
    "random_forest_tuning_job.fit(X, train_labels)\n",
    "report(random_forest_tuning_job.cv_results_)\n",
    "modelling_tools.test_report(random_forest_tuning_job.best_estimator_, X, train_labels, sample_weight=is_head_of_household)"
   ]
  },
  {
   "cell_type": "markdown",
   "metadata": {},
   "source": [
    "## Comments: \n",
    "Both tuned models perform at similar level. It is worth evaluating both on the test set and taking a final decision based on the business needs in production"
   ]
  },
  {
   "cell_type": "markdown",
   "metadata": {},
   "source": [
    "## Final Evaluation on test set"
   ]
  },
  {
   "cell_type": "code",
   "execution_count": 351,
   "metadata": {},
   "outputs": [],
   "source": [
    "X_test = preprocess.transform(test)"
   ]
  },
  {
   "cell_type": "code",
   "execution_count": 353,
   "metadata": {},
   "outputs": [
    {
     "name": "stdout",
     "output_type": "stream",
     "text": [
      "score: 0.8442800993838891\n"
     ]
    },
    {
     "data": {
      "image/png": "[encoded data removed]",
      "text/plain": [
       "<Figure size 432x288 with 2 Axes>"
      ]
     },
     "metadata": {
      "needs_background": "light"
     },
     "output_type": "display_data"
    }
   ],
   "source": [
    "modelling_tools.test_report(label_spreading_tuning_job.best_estimator_, X_test, test_labels, sample_weight=is_head_of_household_test)"
   ]
  },
  {
   "cell_type": "code",
   "execution_count": 356,
   "metadata": {},
   "outputs": [
    {
     "name": "stdout",
     "output_type": "stream",
     "text": [
      "score: 0.8844138398635792\n"
     ]
    },
    {
     "data": {
      "image/png": "[encoded data removed]",
      "text/plain": [
       "<Figure size 432x288 with 2 Axes>"
      ]
     },
     "metadata": {
      "needs_background": "light"
     },
     "output_type": "display_data"
    }
   ],
   "source": [
    "modelling_tools.test_report(random_forest_tuning_job.best_estimator_, X_test, test_labels, sample_weight=is_head_of_household_test)"
   ]
  },
  {
   "cell_type": "markdown",
   "metadata": {},
   "source": [
    "## Serialization"
   ]
  },
  {
   "cell_type": "code",
   "execution_count": 364,
   "metadata": {},
   "outputs": [
    {
     "data": {
      "text/plain": [
       "{'pipeline': Pipeline(memory=None,\n",
       "          steps=[('columnselector-1',\n",
       "                  ColumnSelector(columns=['Id', 'idhogar', 'agesq', 'SQBage',\n",
       "                                          'SQBdependency', 'SQBedjefe',\n",
       "                                          'SQBescolari', 'SQBhogar_nin',\n",
       "                                          'SQBhogar_total', 'SQBmeaned',\n",
       "                                          'SQBovercrowding', 'edjefe',\n",
       "                                          'edjefa'],\n",
       "                                 drop=True)),\n",
       "                 ('columnselector-2',\n",
       "                  ColumnSelector(columns=['parentesco1', 'parentesco2',\n",
       "                                          'parentesco3', 'parentesco4',\n",
       "                                          'parentesco...\n",
       "                  FeatureUnion(n_jobs=None,\n",
       "                               transformer_list=[('functiontransformer',\n",
       "                                                  FunctionTransformer(accept_sparse=False,\n",
       "                                                                      check_inverse=True,\n",
       "                                                                      func=None,\n",
       "                                                                      inv_kw_args=None,\n",
       "                                                                      inverse_func=None,\n",
       "                                                                      kw_args=None,\n",
       "                                                                      pass_y='deprecated',\n",
       "                                                                      validate=True)),\n",
       "                                                 ('vulnerabilityindicator',\n",
       "                                                  VulnerabilityIndicator(loss='hinge',\n",
       "                                                                         random_state=93))],\n",
       "                               transformer_weights=None, verbose=False))],\n",
       "          verbose=False),\n",
       " 'randomforestclassifier': RandomForestClassifier(bootstrap=False, class_weight='balanced',\n",
       "                        criterion='gini', max_depth=None, max_features='log2',\n",
       "                        max_leaf_nodes=None, min_impurity_decrease=0.0,\n",
       "                        min_impurity_split=None, min_samples_leaf=1,\n",
       "                        min_samples_split=3, min_weight_fraction_leaf=0.0,\n",
       "                        n_estimators=100, n_jobs=-1, oob_score=False,\n",
       "                        random_state=93, verbose=0, warm_start=False)}"
      ]
     },
     "execution_count": 364,
     "metadata": {},
     "output_type": "execute_result"
    }
   ],
   "source": [
    "random_forest_pipeline"
   ]
  },
  {
   "cell_type": "code",
   "execution_count": 375,
   "metadata": {},
   "outputs": [],
   "source": [
    "random_forest_pipeline = make_pipeline(\n",
    "    preprocess,\n",
    "    random_forest_tuning_job.best_estimator_\n",
    ")\n",
    "tools.save_model(estimator=random_forest_pipeline, metadata={'params': random_forest_tuning_job.best_params_}, name='random_forest', dirpath=MODEL_DIR, overwrite=True)"
   ]
  },
  {
   "cell_type": "code",
   "execution_count": 376,
   "metadata": {},
   "outputs": [],
   "source": [
    "label_spreading_pipeline = make_pipeline(\n",
    "    preprocess,\n",
    "    label_spreading_tuning_job.best_estimator_\n",
    ")\n",
    "tools.save_model(estimator=label_spreading_pipeline, metadata={'params': label_spreading_tuning_job.best_params_}, name='label_spreading', dirpath=MODEL_DIR, overwrite=True)"
   ]
  },
  {
   "cell_type": "code",
   "execution_count": 377,
   "metadata": {},
   "outputs": [],
   "source": []
  },
  {
   "cell_type": "code",
   "execution_count": null,
   "metadata": {},
   "outputs": [],
   "source": []
  }
 ],
 "metadata": {
  "kernelspec": {
   "display_name": "Python 3",
   "language": "python",
   "name": "python3"
  },
  "language_info": {
   "codemirror_mode": {
    "name": "ipython",
    "version": 3
   },
   "file_extension": ".py",
   "mimetype": "text/x-python",
   "name": "python",
   "nbconvert_exporter": "python",
   "pygments_lexer": "ipython3",
   "version": "3.7.4"
  }
 },
 "nbformat": 4,
 "nbformat_minor": 4
}
